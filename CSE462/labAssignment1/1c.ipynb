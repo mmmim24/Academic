{
 "cells": [
  {
   "cell_type": "markdown",
   "metadata": {},
   "source": [
    "caeser cipher uses a key between 1 to 25 which is used to shift each if the letters. To identify the plain text , it is necessary to iterate 25 times for the key to shift the ciphertxt. BUT THIS TIME if we look closely ,we can see there is a one letter word mentioned in the string twice. It is represented by `D` in the ciphertxt. So it should be replaced by either `A` or `I`. Thus we found `A` by shifting the whole string using key value `23`"
   ]
  },
  {
   "cell_type": "code",
   "execution_count": 2,
   "metadata": {},
   "outputs": [
    {
     "name": "stdout",
     "output_type": "stream",
     "text": [
      "WHAT DO YOU GET WHEN CROSS A SNOWMAN WITH A VAMPIRE? FROSTBITE\n"
     ]
    }
   ],
   "source": [
    "src = \"ZKDW GR BRX JHW ZKHQ FURVV D VQRZPDQ ZLWK D YDPSLUH? IURVWELWH\"\n",
    "\n",
    "key = 23\n",
    "def caesar(key,ciphertext):\n",
    "    for i in range(len(ciphertext)):\n",
    "        if(ord(src[i])>=65 and ord(src[i])<=90):\n",
    "            print(chr(65 + (ord(src[i]) - 65 + key) % 26),end='')\n",
    "        else:\n",
    "            print(src[i],end='')\n",
    "    print()\n",
    "\n",
    "\n",
    "# for i in range(len(src)):\n",
    "#     caesar(i,src)\n",
    "    \n",
    "caesar(key,src)"
   ]
  },
  {
   "cell_type": "markdown",
   "metadata": {},
   "source": [
    "in the above code there is ciphertext string in `src` variable . `caesar` function takes two parameters. One is `key` for shifting each character and another one is `ciphertext`.\n",
    "iterating through the ciphertext we shift each character in a cyclic way by modding by `26` "
   ]
  }
 ],
 "metadata": {
  "kernelspec": {
   "display_name": "Python 3",
   "language": "python",
   "name": "python3"
  },
  "language_info": {
   "codemirror_mode": {
    "name": "ipython",
    "version": 3
   },
   "file_extension": ".py",
   "mimetype": "text/x-python",
   "name": "python",
   "nbconvert_exporter": "python",
   "pygments_lexer": "ipython3",
   "version": "3.12.0"
  }
 },
 "nbformat": 4,
 "nbformat_minor": 2
}
