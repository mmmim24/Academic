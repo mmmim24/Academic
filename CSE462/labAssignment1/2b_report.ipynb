{
  "nbformat": 4,
  "nbformat_minor": 0,
  "metadata": {
    "colab": {
      "provenance": []
    },
    "kernelspec": {
      "name": "python3",
      "display_name": "Python 3"
    },
    "language_info": {
      "name": "python"
    }
  },
  "cells": [
    {
      "cell_type": "code",
      "execution_count": 11,
      "metadata": {
        "colab": {
          "base_uri": "https://localhost:8080/"
        },
        "id": "Rk20e4m-5yzJ",
        "outputId": "d6aacc97-a91e-4f28-a6d9-7066faf7219f"
      },
      "outputs": [
        {
          "output_type": "stream",
          "name": "stdout",
          "text": [
            "freq distribution\n",
            "        x:74\n",
            "        m:73\n",
            "        z:57\n",
            "        o:55\n",
            "        u:52\n",
            "        w:47\n",
            "        g:44\n",
            "        l:43\n",
            "        k:32\n",
            "        p:26\n",
            "        t:26\n",
            "        i:22\n",
            "        q:22\n",
            "        a:20\n",
            "        s:20\n",
            "        c:17\n",
            "        e:13\n",
            "        f:12\n",
            "        h:9\n",
            "        j:6\n",
            "        r:6\n",
            "        n:3\n",
            "        y:1\n",
            "        v:0\n",
            "        d:0\n",
            "        b:0\n",
            "        ---------------------------------------------------------\n",
            "\n",
            "        ---------------------------------------------------------\n",
            "\n",
            "decrypted text:\n",
            "\n",
            "        ******* **********, *** **** ** * ****** **** ****** ****\n",
            "*** ********.****, * *********** ****** *** ******* *** ******\n",
            "*** ********* ** ****** ** * ************* *** **** ***** ***\n",
            "** ***.********, ** *** **** * **** *** *** ****\n",
            "** ********* ** ** **** **** **** *** **** **********.\n",
            "** ***** ****** **** *** *** ** ****** *** **********\n",
            "***** ******* ** **** ****.** **** ***** *** ***** **\n",
            "**********, **** **** *** ********* ** *** *****. ***** ***\n",
            "\n",
            "** ******* ********** *** *** ****** *** ** *****\n",
            "**********.******* **********\n",
            "\n",
            "** ********* **** ****** ****** ** ** ** ***** **\n",
            "****** ******. ***** *************** ***** **** ****** ***\n",
            "** ***** ** ** *** *** ****. *************** ******** * ***\n",
            "** ********** *** ******* **** ******.***** ***, ********* **** *****\n",
            "******** ******* *** ******* ** **** **** ** ***** ***********.\n",
            "    \n",
            "        ---------------------------------------------------------\n"
          ]
        }
      ],
      "source": [
        "import numpy as np\n",
        "src = \"\"\"\n",
        "        exupziu kxwqxagxom, upm gxsm zs l amtwzo exgg rmqzfm kigg\n",
        "lok xolquxjm.lgwz, l kxwqxagxomk amtwzo qlo qzoutzg lok plokgm\n",
        "upm wxuiluxzo zs gxjxoh xo l wzapxwuxqlumk elc uplo upzwm epz\n",
        "kz ozu.fztmzjmt, xs czi pljm l aglo lok czi elou\n",
        "uz xfagmfmou xu xo czit gxsm upmo czi ommk kxwqxagxom.\n",
        "xu flnmw upxohw mlwc szt czi uz plokgm lok iguxflumgc\n",
        "rtxoh wiqqmww uz czit gxsm.xs ulgn lrziu upm ucamw zs\n",
        "kxwqxagxom, upmo upmc ltm hmomtlggc zs uez ucamw. sxtwu zom\n",
        "\n",
        "xw xokiqmk kxwqxagxom lok upm wmqzok zom xw wmgs-\n",
        "kxwqxagxom.xokiqmk kxwqxagxom\n",
        "\n",
        "xw wzfmupxoh uplu zupmtw ulihpu iw zt em gmlto rc\n",
        "wmmxoh zupmtw. epxgm wmgs-kxwqxagxom qzfmw stzf exupxo lok\n",
        "em gmlto xu zo zit zeo wmgs. wmgs-kxwqxagxom tmyixtmw l gzu\n",
        "zs fzuxjluxzo lok wiaaztu stzf zupmtw.lrzjm lgg, szggzexoh czit klxgc\n",
        "wqpmkigm exupziu loc fxwulnm xw lgwz altu zs rmxoh kxwqxagxomk.\n",
        "    \"\"\"\n",
        "\n",
        "dest = \"\"\n",
        "\n",
        "fre = {\n",
        "        'a':0,'b':0,'c':0,'d':0,'e':0,\n",
        "        'f':0,'g':0,'h':0,'i':0,'j':0,\n",
        "        'k':0,'l':0,'m':0,'n':0,'o':0,'p':0,\n",
        "        'q':0,'r':0,'s':0,'t':0,'u':0,\n",
        "        'v':0,'w':0,'x':0,'y':0,'z':0\n",
        "    }\n",
        "\n",
        "mapping = {\n",
        "            '.':'.',',':',','\\n':'\\n'\n",
        "        }\n",
        "def freq(src):\n",
        "    print('freq distribution')\n",
        "    for i in src:\n",
        "        for j in i:\n",
        "            if fre.get(j)!=None:\n",
        "                fre[j] += 1\n",
        "    keys = list(fre.keys())\n",
        "    values = list(fre.values())\n",
        "    sorted_value_index = np.array(values).argsort()[-26:][::-1]\n",
        "    sorted_dict = {keys[i]: values[i] for i in sorted_value_index}\n",
        "\n",
        "    for i in sorted_dict:\n",
        "        print('        ',end='')\n",
        "        print(i,end=':')\n",
        "        print(sorted_dict[i])\n",
        "\n",
        "\n",
        "def algo(src,mapping):\n",
        "    print(\"decrypted text:\")\n",
        "    for i in src:\n",
        "        for j in i:\n",
        "            if j !=' ':\n",
        "                if mapping.get(j):\n",
        "                    print(mapping[j],end='')\n",
        "                else:\n",
        "                    print('*',end='')\n",
        "            else:\n",
        "                print(\" \",end='')\n",
        "    print()\n",
        "\n",
        "freq(src)\n",
        "print('        ---------------------------------------------------------')\n",
        "\n",
        "def decipher():\n",
        "    print('\\n        ---------------------------------------------------------\\n')\n",
        "    algo(src,mapping)\n",
        "    print('        ---------------------------------------------------------')\n",
        "\n",
        "decipher()"
      ]
    },
    {
      "cell_type": "markdown",
      "source": [
        "from initial observation , we get that `upm` is the most frequent trigraph and three letter word in the ciphertext which matches with `the` in cheatsheet. Also we get one letter word `l` which we can map with `a` . and there is a thee letter word including a double where first letter is `a`, so from the cheatsheet we assume next two will be `l`."
      ],
      "metadata": {
        "id": "Cirtkp-37DMd"
      }
    },
    {
      "cell_type": "code",
      "source": [
        "mapping = {\n",
        "            '.':'.',',':',','\\n':'\\n',\n",
        "            'u':'t','p':'h','m':'e','l':'a',\n",
        "            'g':'l'\n",
        "\n",
        "        }\n",
        "decipher()"
      ],
      "metadata": {
        "colab": {
          "base_uri": "https://localhost:8080/"
        },
        "id": "tiiOvj9C6bZ0",
        "outputId": "c5e93ac4-256c-4463-f252-6b9784c60995"
      },
      "execution_count": 15,
      "outputs": [
        {
          "output_type": "stream",
          "name": "stdout",
          "text": [
            "\n",
            "        ---------------------------------------------------------\n",
            "\n",
            "decrypted text:\n",
            "\n",
            "        **th**t ******l**e, the l**e ** a *e**** **ll *e***e **ll\n",
            "a** **a*t**e.al**, a ******l**e* *e**** *a* ***t**l a** ha**le\n",
            "the **t*at*** ** l***** ** a ***h**t**ate* *a* tha* th**e *h*\n",
            "** **t.***e**e*, ** *** ha*e a *la* a** *** *a*t\n",
            "t* ***le*e*t *t ** **** l**e the* *** *ee* ******l**e.\n",
            "*t *a*e* th**** ea** *** *** t* ha**le a** *lt**atel*\n",
            "***** ****e** t* **** l**e.** tal* a***t the t**e* **\n",
            "******l**e, the* the* a*e *e*e*all* ** t** t**e*. ****t **e\n",
            "\n",
            "** *****e* ******l**e a** the *e**** **e ** *el**\n",
            "******l**e.*****e* ******l**e\n",
            "\n",
            "** ***eth*** that *the** ta**ht ** ** *e lea** **\n",
            "*ee*** *the**. *h*le *el********l**e ***e* **** **th** a**\n",
            "*e lea** *t ** *** *** *el*. *el********l**e *e****e* a l*t\n",
            "** **t**at*** a** ******t **** *the**.a***e all, **ll***** **** *a*l*\n",
            "**he**le **th**t a** ***ta*e ** al** *a*t ** *e*** ******l**e*.\n",
            "    \n",
            "        ---------------------------------------------------------\n"
          ]
        }
      ]
    },
    {
      "cell_type": "markdown",
      "source": [
        "after th initial mapping we can see a phrase `a l*t **` which can be interpreted as `a lot of`. so we map `z=o` and `s=f` . The third word of the ciphertext is `gxsm` where the interpreted plain text is `l*fe` so we can map `x=i`"
      ],
      "metadata": {
        "id": "pazJiNgRHLf9"
      }
    },
    {
      "cell_type": "code",
      "source": [
        "mapping = {\n",
        "            '.':'.',',':',','\\n':'\\n',\n",
        "            'u':'t','p':'h','m':'e','l':'a',\n",
        "            'g':'l','z':'o','s':'f','x':'i'\n",
        "\n",
        "        }\n",
        "decipher()"
      ],
      "metadata": {
        "colab": {
          "base_uri": "https://localhost:8080/"
        },
        "id": "fT0YNwbFHdhd",
        "outputId": "f418acfc-441a-4b46-e33c-2345b22048bd"
      },
      "execution_count": 17,
      "outputs": [
        {
          "output_type": "stream",
          "name": "stdout",
          "text": [
            "\n",
            "        ---------------------------------------------------------\n",
            "\n",
            "decrypted text:\n",
            "\n",
            "        *itho*t *i**i*li*e, the life of a *e**o* *ill *e*o*e **ll\n",
            "a** i*a*ti*e.al*o, a *i**i*li*e* *e**o* *a* *o*t*ol a** ha**le\n",
            "the *it*atio* of li*i** i* a *o*hi*ti*ate* *a* tha* tho*e *ho\n",
            "*o *ot.*o*eo*e*, if *o* ha*e a *la* a** *o* *a*t\n",
            "to i**le*e*t it i* *o** life the* *o* *ee* *i**i*li*e.\n",
            "it *a*e* thi*** ea** fo* *o* to ha**le a** *lti*atel*\n",
            "**i** ****e** to *o** life.if tal* a*o*t the t**e* of\n",
            "*i**i*li*e, the* the* a*e *e*e*all* of t*o t**e*. fi**t o*e\n",
            "\n",
            "i* i****e* *i**i*li*e a** the *e*o** o*e i* *elf*\n",
            "*i**i*li*e.i****e* *i**i*li*e\n",
            "\n",
            "i* *o*ethi** that othe** ta**ht ** o* *e lea** **\n",
            "*eei** othe**. *hile *elf**i**i*li*e *o*e* f*o* *ithi* a**\n",
            "*e lea** it o* o** o** *elf. *elf**i**i*li*e *e**i*e* a lot\n",
            "of *oti*atio* a** ****o*t f*o* othe**.a*o*e all, follo*i** *o** *ail*\n",
            "**he**le *itho*t a** *i*ta*e i* al*o *a*t of *ei** *i**i*li*e*.\n",
            "    \n",
            "        ---------------------------------------------------------\n"
          ]
        }
      ]
    },
    {
      "cell_type": "markdown",
      "source": [
        "We have mapped a good number of characters which can be used properly for the next mappings. `e=w` and `i=u` will be appropiate for the first word `*itho*t` to make `without` . `followi**` will be `following` so we are mapping `o=n` and `h = g`"
      ],
      "metadata": {
        "id": "OE_nd_h7IWUy"
      }
    },
    {
      "cell_type": "code",
      "source": [
        "mapping = {\n",
        "            '.':'.',',':',','\\n':'\\n',\n",
        "            'u':'t','p':'h','m':'e','l':'a',\n",
        "            'g':'l','z':'o','s':'f','x':'i',\n",
        "            'e':'w','i':'u','o':'n','h':'g',\n",
        "\n",
        "        }\n",
        "decipher()"
      ],
      "metadata": {
        "colab": {
          "base_uri": "https://localhost:8080/"
        },
        "id": "aa1Q_frlNhif",
        "outputId": "b63a30c8-5561-4673-cda9-f665f8e923b6"
      },
      "execution_count": 19,
      "outputs": [
        {
          "output_type": "stream",
          "name": "stdout",
          "text": [
            "\n",
            "        ---------------------------------------------------------\n",
            "\n",
            "decrypted text:\n",
            "\n",
            "        without *i**i*line, the life of a *e**on will *e*o*e *ull\n",
            "an* ina*ti*e.al*o, a *i**i*line* *e**on *an *ont*ol an* han*le\n",
            "the *ituation of li*ing in a *o*hi*ti*ate* wa* than tho*e who\n",
            "*o not.*o*eo*e*, if *ou ha*e a *lan an* *ou want\n",
            "to i**le*ent it in *ou* life then *ou nee* *i**i*line.\n",
            "it *a*e* thing* ea** fo* *ou to han*le an* ulti*atel*\n",
            "**ing *u**e** to *ou* life.if tal* a*out the t**e* of\n",
            "*i**i*line, then the* a*e gene*all* of two t**e*. fi**t one\n",
            "\n",
            "i* in*u*e* *i**i*line an* the *e*on* one i* *elf*\n",
            "*i**i*line.in*u*e* *i**i*line\n",
            "\n",
            "i* *o*ething that othe** taught u* o* we lea*n **\n",
            "*eeing othe**. while *elf**i**i*line *o*e* f*o* within an*\n",
            "we lea*n it on ou* own *elf. *elf**i**i*line *e*ui*e* a lot\n",
            "of *oti*ation an* *u**o*t f*o* othe**.a*o*e all, following *ou* *ail*\n",
            "**he*ule without an* *i*ta*e i* al*o *a*t of *eing *i**i*line*.\n",
            "    \n",
            "        ---------------------------------------------------------\n"
          ]
        }
      ]
    },
    {
      "cell_type": "markdown",
      "source": [
        "from `*ou* life then *ou nee*` and `if *ou ha*e a *lan` we can map `a=p,j=v,c=y,k=d and t=r` so it become `your life then you need`"
      ],
      "metadata": {
        "id": "lG43WDnwOq6T"
      }
    },
    {
      "cell_type": "code",
      "source": [
        "mapping = {\n",
        "            '.':'.',',':',','\\n':'\\n',\n",
        "            'u':'t','p':'h','m':'e','l':'a',\n",
        "            'g':'l','z':'o','s':'f','x':'i',\n",
        "            'e':'w','i':'u','o':'n','h':'g',\n",
        "            'c':'y','k':'d','t':'r','a':'p',\n",
        "            'j':'v',\n",
        "        }\n",
        "decipher()"
      ],
      "metadata": {
        "colab": {
          "base_uri": "https://localhost:8080/"
        },
        "id": "R0wZ_gYQPk7e",
        "outputId": "302c630f-2d57-4c02-df8f-9a0474842775"
      },
      "execution_count": 20,
      "outputs": [
        {
          "output_type": "stream",
          "name": "stdout",
          "text": [
            "\n",
            "        ---------------------------------------------------------\n",
            "\n",
            "decrypted text:\n",
            "\n",
            "        without di**ipline, the life of a per*on will *e*o*e dull\n",
            "and ina*tive.al*o, a di**iplined per*on *an *ontrol and handle\n",
            "the *ituation of living in a *ophi*ti*ated way than tho*e who\n",
            "do not.*oreover, if you have a plan and you want\n",
            "to i*ple*ent it in your life then you need di**ipline.\n",
            "it *a*e* thing* ea*y for you to handle and ulti*ately\n",
            "*ring *u**e** to your life.if tal* a*out the type* of\n",
            "di**ipline, then they are generally of two type*. fir*t one\n",
            "\n",
            "i* indu*ed di**ipline and the *e*ond one i* *elf*\n",
            "di**ipline.indu*ed di**ipline\n",
            "\n",
            "i* *o*ething that other* taught u* or we learn *y\n",
            "*eeing other*. while *elf*di**ipline *o*e* fro* within and\n",
            "we learn it on our own *elf. *elf*di**ipline re*uire* a lot\n",
            "of *otivation and *upport fro* other*.a*ove all, following your daily\n",
            "**hedule without any *i*ta*e i* al*o part of *eing di**iplined.\n",
            "    \n",
            "        ---------------------------------------------------------\n"
          ]
        }
      ]
    },
    {
      "cell_type": "markdown",
      "source": [
        "now we go through the first paragraph `without di**ipline, the life of a per*on will *e*o*e dull and ina*tive.al*o, a di**iplined per*on *an *ontrol and handle the *ituation of living in a *ophi*ti*ated way than tho*e who do not.*oreover, if you have a plan and you want to i*ple*ent it in your life then you need di**ipline. it *a*e* thing* ea*y for you to handle and ulti*ately *ring *u**e** to your life.if tal* a*out the type* of di**ipline, then they are generally of two type*. fir*t one` and can easily get the context. So the next mappings will be `w=s,q=c` so that the text will be `without discipline, the life of a person will become dull and inactive.also, a disciplined person can control and handle the situation of living in a sophisticated way than those who do not.moreover, if you have a plan and you want to implement it in your life then you need discipline. it makes things easy for you to handle and ultimately bring success to your life.if talk about the types of discipline, then they are generally of two types. first one`"
      ],
      "metadata": {
        "id": "SqDdtDY3QDBS"
      }
    },
    {
      "cell_type": "code",
      "source": [
        "mapping = {\n",
        "            '.':'.',',':',','\\n':'\\n','-':'-',\n",
        "            'u':'t','p':'h','m':'e','l':'a',\n",
        "            'g':'l','z':'o','s':'f','x':'i',\n",
        "            'e':'w','i':'u','o':'n','h':'g',\n",
        "            'c':'y','k':'d','t':'r','a':'p',\n",
        "            'j':'v','w':'s','q':'c','r':'b',\n",
        "            'f':'m',\n",
        "        }\n",
        "decipher()"
      ],
      "metadata": {
        "colab": {
          "base_uri": "https://localhost:8080/"
        },
        "id": "s_-dplGiRhSo",
        "outputId": "56338093-146c-44ee-99b5-9c040248e346"
      },
      "execution_count": 23,
      "outputs": [
        {
          "output_type": "stream",
          "name": "stdout",
          "text": [
            "\n",
            "        ---------------------------------------------------------\n",
            "\n",
            "decrypted text:\n",
            "\n",
            "        without discipline, the life of a person will become dull\n",
            "and inactive.also, a disciplined person can control and handle\n",
            "the situation of living in a sophisticated way than those who\n",
            "do not.moreover, if you have a plan and you want\n",
            "to implement it in your life then you need discipline.\n",
            "it ma*es things easy for you to handle and ultimately\n",
            "bring success to your life.if tal* about the types of\n",
            "discipline, then they are generally of two types. first one\n",
            "\n",
            "is induced discipline and the second one is self-\n",
            "discipline.induced discipline\n",
            "\n",
            "is something that others taught us or we learn by\n",
            "seeing others. while self-discipline comes from within and\n",
            "we learn it on our own self. self-discipline re*uires a lot\n",
            "of motivation and support from others.above all, following your daily\n",
            "schedule without any mista*e is also part of being disciplined.\n",
            "    \n",
            "        ---------------------------------------------------------\n"
          ]
        }
      ]
    },
    {
      "cell_type": "markdown",
      "source": [
        "rest two letters `n=k ` and `y=q` completes the conversion"
      ],
      "metadata": {
        "id": "i9P9oJpvRxyA"
      }
    },
    {
      "cell_type": "code",
      "source": [
        "mapping = {\n",
        "            '.':'.',',':',','\\n':'\\n','-':'-',\n",
        "            'u':'t','p':'h','m':'e','l':'a',\n",
        "            'g':'l','z':'o','s':'f','x':'i',\n",
        "            'e':'w','i':'u','o':'n','h':'g',\n",
        "            'c':'y','k':'d','t':'r','a':'p',\n",
        "            'j':'v','w':'s','q':'c','r':'b',\n",
        "            'f':'m','n':'k','y':'q'\n",
        "        }\n",
        "decipher()"
      ],
      "metadata": {
        "colab": {
          "base_uri": "https://localhost:8080/"
        },
        "id": "03bsi-NPR-Gk",
        "outputId": "57f9dd1d-b215-4fd7-c724-50b1c3a06fce"
      },
      "execution_count": 24,
      "outputs": [
        {
          "output_type": "stream",
          "name": "stdout",
          "text": [
            "\n",
            "        ---------------------------------------------------------\n",
            "\n",
            "decrypted text:\n",
            "\n",
            "        without discipline, the life of a person will become dull\n",
            "and inactive.also, a disciplined person can control and handle\n",
            "the situation of living in a sophisticated way than those who\n",
            "do not.moreover, if you have a plan and you want\n",
            "to implement it in your life then you need discipline.\n",
            "it makes things easy for you to handle and ultimately\n",
            "bring success to your life.if talk about the types of\n",
            "discipline, then they are generally of two types. first one\n",
            "\n",
            "is induced discipline and the second one is self-\n",
            "discipline.induced discipline\n",
            "\n",
            "is something that others taught us or we learn by\n",
            "seeing others. while self-discipline comes from within and\n",
            "we learn it on our own self. self-discipline requires a lot\n",
            "of motivation and support from others.above all, following your daily\n",
            "schedule without any mistake is also part of being disciplined.\n",
            "    \n",
            "        ---------------------------------------------------------\n"
          ]
        }
      ]
    }
  ]
}