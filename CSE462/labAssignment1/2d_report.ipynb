{
  "nbformat": 4,
  "nbformat_minor": 0,
  "metadata": {
    "colab": {
      "provenance": []
    },
    "kernelspec": {
      "name": "python3",
      "display_name": "Python 3"
    },
    "language_info": {
      "name": "python"
    }
  },
  "cells": [
    {
      "cell_type": "code",
      "execution_count": 1,
      "metadata": {
        "colab": {
          "base_uri": "https://localhost:8080/"
        },
        "id": "nhvQpn3klph4",
        "outputId": "2c1b6b3e-6805-4877-fc35-d5a8be2f0618"
      },
      "outputs": [
        {
          "output_type": "stream",
          "name": "stdout",
          "text": [
            "        ---------------------------------------------------------\n",
            "freq distribution\n",
            "        F:37\n",
            "        Q:26\n",
            "        W:21\n",
            "        G:19\n",
            "        L:17\n",
            "        O:16\n",
            "        V:15\n",
            "        H:14\n",
            "        B:12\n",
            "        P:10\n",
            "        J:9\n",
            "        I:9\n",
            "        Z:7\n",
            "        R:7\n",
            "        E:4\n",
            "        M:4\n",
            "        K:3\n",
            "        Y:3\n",
            "        C:3\n",
            "        A:3\n",
            "        S:2\n",
            "        D:2\n",
            "        X:1\n",
            "        N:0\n",
            "        T:0\n",
            "        U:0\n",
            "\n",
            "        ---------------------------------------------------------\n",
            "\n",
            "decrypted text:\n",
            "\n",
            "        ************* ******* *** ********* ********* ** *****.\n",
            "************, *** **** ****** **** ********** ****** **\n",
            "********* *** ********** ******* **** **** ** **** ** **\n",
            "**** ****** **** *** ***** ****** ** *****. *** ***********\n",
            "***** ******* ** **** **** ******* *** ******* ******* **\n",
            "*****.\n",
            "    \n",
            "        ---------------------------------------------------------\n"
          ]
        }
      ],
      "source": [
        "import numpy as np\n",
        "src = \"\"\"\n",
        "        JGRMQOYGHMVBJ WRWQFPW HGF FDQGFPFZR KBEEBJIZQ QO CIBZK.\n",
        "LFAFGQVFZFWW, EOG WOPF GFHWOL PHLR LOLFDMFGQW BLWBWQ OL\n",
        "KFWBYLBLY LFS FLJGRMQBOL WJVFPFW QVHQ WFFP QO QVFP QO CF\n",
        "POGF WFJIGF QVHL HLR OQVFG WJVFPF OL FHGQV. QVF ILEOGQILHQF\n",
        "QGIQV VOSFAFG BW QVHQ WIJV WJVFPFW HGF IWIHZZR QGBABHZ QO\n",
        "CGFHX.\n",
        "    \"\"\"\n",
        "\n",
        "dest = \"\"\n",
        "\n",
        "fre = {\n",
        "        'A':0,'B':0,'C':0,'D':0,'E':0,\n",
        "        'F':0,'G':0,'H':0,'I':0,'J':0,\n",
        "        'K':0,'L':0,'M':0,'N':0,'O':0,'P':0,\n",
        "        'Q':0,'R':0,'S':0,'T':0,'U':0,\n",
        "        'V':0,'W':0,'X':0,'Y':0,'Z':0\n",
        "    }\n",
        "def freq(src):\n",
        "    print('freq distribution')\n",
        "    for i in src:\n",
        "        for j in i:\n",
        "            if fre.get(j)!=None:\n",
        "                fre[j] += 1\n",
        "    keys = list(fre.keys())\n",
        "    values = list(fre.values())\n",
        "    sorted_value_index = np.array(values).argsort()[-26:][::-1]\n",
        "    sorted_dict = {keys[i]: values[i] for i in sorted_value_index}\n",
        "\n",
        "    for i in sorted_dict:\n",
        "        print('        ',end='')\n",
        "        print(i,end=':')\n",
        "        print(sorted_dict[i])\n",
        "\n",
        "\n",
        "\n",
        "mapping = {\n",
        "            '.':'.',',':',','\\n':'\\n','-':'-',\n",
        "\n",
        "        }\n",
        "\n",
        "\n",
        "\n",
        "\n",
        "def algo(src,mapping):\n",
        "    print(\"decrypted text:\")\n",
        "    for i in src:\n",
        "        for j in i:\n",
        "            if j !=' ':\n",
        "                if mapping.get(j):\n",
        "                    print(mapping[j],end='')\n",
        "                else:\n",
        "                    print('*',end='')\n",
        "            else:\n",
        "                print(\" \",end='')\n",
        "    print()\n",
        "\n",
        "print('        ---------------------------------------------------------')\n",
        "freq(src)\n",
        "def decipher():\n",
        "    print('\\n        ---------------------------------------------------------\\n')\n",
        "    algo(src,mapping)\n",
        "    print('        ---------------------------------------------------------')\n",
        "\n",
        "decipher()"
      ]
    },
    {
      "cell_type": "markdown",
      "source": [
        "most common trigraph is `THE` and in ciphertxt it is `QVF`.\n",
        "so the mapping is `Q=T,V=H , F=E`"
      ],
      "metadata": {
        "id": "c22sF0v4pGiN"
      }
    },
    {
      "cell_type": "code",
      "source": [
        "mapping = {\n",
        "            '.':'.',',':',','\\n':'\\n','-':'-',\n",
        "            'Q':'T','V':'H','F':'E'\n",
        "        }\n",
        "decipher()"
      ],
      "metadata": {
        "colab": {
          "base_uri": "https://localhost:8080/"
        },
        "id": "ojFg6EZ-pGP-",
        "outputId": "64360a43-85ce-47c3-f969-32113257de12"
      },
      "execution_count": 2,
      "outputs": [
        {
          "output_type": "stream",
          "name": "stdout",
          "text": [
            "\n",
            "        ---------------------------------------------------------\n",
            "\n",
            "decrypted text:\n",
            "\n",
            "        ****T*****H** ***TE** **E E*T*E*E** ********T T* *****.\n",
            "*E*E*THE*E**, *** ***E *E**** **** ***E**E*T* *****T **\n",
            "*E******* *E* E*****T*** **HE*E* TH*T *EE* T* THE* T* *E\n",
            "***E *E***E TH** *** *THE* **HE*E ** E**TH. THE *****T***TE\n",
            "T**TH H**E*E* ** TH*T ***H **HE*E* **E ******* T****** T*\n",
            "**E**.\n",
            "    \n",
            "        ---------------------------------------------------------\n"
          ]
        }
      ]
    },
    {
      "cell_type": "markdown",
      "source": [
        "`T*` is surely be `TO` , and `OTHE*` will be `OTHER` . we also get `TH*T` ehich will be `THAT`.\n",
        "so next mappings are `O=O,G=R, H=A`"
      ],
      "metadata": {
        "id": "YPVvSJw3p3v8"
      }
    },
    {
      "cell_type": "code",
      "source": [
        "mapping = {\n",
        "            '.':'.',',':',','\\n':'\\n','-':'-',\n",
        "            'Q':'T','V':'H','F':'E','O':'O',\n",
        "            'H':'A','G':'R'\n",
        "        }\n",
        "decipher()"
      ],
      "metadata": {
        "colab": {
          "base_uri": "https://localhost:8080/"
        },
        "id": "HDMZqCUzqQOk",
        "outputId": "19aa052e-8400-48fd-a082-21b0b62e299d"
      },
      "execution_count": 3,
      "outputs": [
        {
          "output_type": "stream",
          "name": "stdout",
          "text": [
            "\n",
            "        ---------------------------------------------------------\n",
            "\n",
            "decrypted text:\n",
            "\n",
            "        *R**TO*RA*H** ***TE** ARE E*TRE*E** ********T TO *****.\n",
            "*E*ERTHE*E**, *OR *O*E REA*O* *A** *O*E**ERT* *****T O*\n",
            "*E******* *E* E**R**T*O* **HE*E* THAT *EE* TO THE* TO *E\n",
            "*ORE *E**RE THA* A** OTHER **HE*E O* EARTH. THE ***ORT**ATE\n",
            "TR*TH HO*E*ER ** THAT ***H **HE*E* ARE ***A*** TR***A* TO\n",
            "*REA*.\n",
            "    \n",
            "        ---------------------------------------------------------\n"
          ]
        }
      ]
    },
    {
      "cell_type": "markdown",
      "source": [
        "`TR*TH HO*E*ER` will be `TRUTH HOWEVER` and `*ore` will be `more`\n",
        "so next mappings are `I=U,S=W,A=V,P=M`"
      ],
      "metadata": {
        "id": "qHDQv70qqbK3"
      }
    },
    {
      "cell_type": "code",
      "source": [
        "mapping = {\n",
        "            '.':'.',',':',','\\n':'\\n','-':'-',\n",
        "            'Q':'T','V':'H','F':'E','O':'O',\n",
        "            'H':'A','G':'R','I':'U','S':'W',\n",
        "            'A':'V','P':'M'\n",
        "        }\n",
        "decipher()"
      ],
      "metadata": {
        "colab": {
          "base_uri": "https://localhost:8080/"
        },
        "id": "uW5Cfp4QrasL",
        "outputId": "5e867f27-0dc1-4ddd-82c5-cde0510b43b1"
      },
      "execution_count": 4,
      "outputs": [
        {
          "output_type": "stream",
          "name": "stdout",
          "text": [
            "\n",
            "        ---------------------------------------------------------\n",
            "\n",
            "decrypted text:\n",
            "\n",
            "        *R**TO*RA*H** ***TEM* ARE E*TREME** ******U*T TO *U***.\n",
            "*EVERTHE*E**, *OR *OME REA*O* MA** *O*E**ERT* *****T O*\n",
            "*E******* *EW E**R**T*O* **HEME* THAT *EEM TO THEM TO *E\n",
            "MORE *E*URE THA* A** OTHER **HEME O* EARTH. THE U**ORTU*ATE\n",
            "TRUTH HOWEVER ** THAT *U*H **HEME* ARE U*UA*** TR*V*A* TO\n",
            "*REA*.\n",
            "    \n",
            "        ---------------------------------------------------------\n"
          ]
        }
      ]
    },
    {
      "cell_type": "markdown",
      "source": [
        "`A** OTHER **HEME O* EARTH ` will be `ANY OTHER SCHEME ON EARTH` and that makes `UN*FORTUNATE` more clear.\n",
        "mappings `L=N,R=Y,W=S,J=C,E=F`"
      ],
      "metadata": {
        "id": "HgfzfJVgrr-4"
      }
    },
    {
      "cell_type": "code",
      "source": [
        "mapping = {\n",
        "            '.':'.',',':',','\\n':'\\n','-':'-',\n",
        "            'Q':'T','V':'H','F':'E','O':'O',\n",
        "            'H':'A','G':'R','I':'U','S':'W',\n",
        "            'A':'V','P':'M','L':'N','E':'F',\n",
        "            'R':'Y','W':'S','J':'C'\n",
        "        }\n",
        "decipher()"
      ],
      "metadata": {
        "colab": {
          "base_uri": "https://localhost:8080/"
        },
        "id": "QJThpLU5rrvA",
        "outputId": "c2ed953c-dac6-450c-9d63-a6fbf238c40a"
      },
      "execution_count": 5,
      "outputs": [
        {
          "output_type": "stream",
          "name": "stdout",
          "text": [
            "\n",
            "        ---------------------------------------------------------\n",
            "\n",
            "decrypted text:\n",
            "\n",
            "        CRY*TO*RA*H*C SYSTEMS ARE E*TREME*Y **FF*CU*T TO *U***.\n",
            "NEVERTHE*ESS, FOR SOME REASON MANY NONE**ERTS *NS*ST ON\n",
            "*ES**N*N* NEW ENCRY*T*ON SCHEMES THAT SEEM TO THEM TO *E\n",
            "MORE SECURE THAN ANY OTHER SCHEME ON EARTH. THE UNFORTUNATE\n",
            "TRUTH HOWEVER *S THAT SUCH SCHEMES ARE USUA**Y TR*V*A* TO\n",
            "*REA*.\n",
            "    \n",
            "        ---------------------------------------------------------\n"
          ]
        }
      ]
    },
    {
      "cell_type": "markdown",
      "source": [
        "from the first line `CRY*TO*RA*H*C SYSTEMS ARE E*TREME*Y **FF*CU*T TO` we can get the decrypted text `CRYPTOGRAPHIC SYSTEMS ARE EXTREMELY DIFFICULT TO`"
      ],
      "metadata": {
        "id": "7XzHKcw4tqnk"
      }
    },
    {
      "cell_type": "code",
      "source": [
        "mapping = {\n",
        "            '.':'.',',':',','\\n':'\\n','-':'-',\n",
        "            'Q':'T','V':'H','F':'E','O':'O',\n",
        "            'H':'A','G':'R','I':'U','S':'W',\n",
        "            'A':'V','P':'M','L':'N','E':'F',\n",
        "            'R':'Y','W':'S','J':'C','M':'P',\n",
        "            'Y':'G','B':'I','D':'X','Z':'L',\n",
        "            'K':'D',\n",
        "        }\n",
        "decipher()"
      ],
      "metadata": {
        "colab": {
          "base_uri": "https://localhost:8080/"
        },
        "id": "FMaY-c5urlri",
        "outputId": "5a3c9aef-1ede-4417-cf46-1e3a31941c94"
      },
      "execution_count": 6,
      "outputs": [
        {
          "output_type": "stream",
          "name": "stdout",
          "text": [
            "\n",
            "        ---------------------------------------------------------\n",
            "\n",
            "decrypted text:\n",
            "\n",
            "        CRYPTOGRAPHIC SYSTEMS ARE EXTREMELY DIFFICULT TO *UILD.\n",
            "NEVERTHELESS, FOR SOME REASON MANY NONEXPERTS INSIST ON\n",
            "DESIGNING NEW ENCRYPTION SCHEMES THAT SEEM TO THEM TO *E\n",
            "MORE SECURE THAN ANY OTHER SCHEME ON EARTH. THE UNFORTUNATE\n",
            "TRUTH HOWEVER IS THAT SUCH SCHEMES ARE USUALLY TRIVIAL TO\n",
            "*REA*.\n",
            "    \n",
            "        ---------------------------------------------------------\n"
          ]
        }
      ]
    },
    {
      "cell_type": "markdown",
      "source": [
        "now rest of the mappings are `C=B and X=K`"
      ],
      "metadata": {
        "id": "0ygp9nxJu8Th"
      }
    },
    {
      "cell_type": "code",
      "source": [
        "mapping = {\n",
        "            '.':'.',',':',','\\n':'\\n','-':'-',\n",
        "            'Q':'T','V':'H','F':'E','O':'O',\n",
        "            'H':'A','G':'R','I':'U','S':'W',\n",
        "            'A':'V','P':'M','L':'N','E':'F',\n",
        "            'R':'Y','W':'S','J':'C','M':'P',\n",
        "            'Y':'G','B':'I','D':'X','Z':'L',\n",
        "            'K':'D','C':'B','X':'K'\n",
        "        }\n",
        "decipher()"
      ],
      "metadata": {
        "colab": {
          "base_uri": "https://localhost:8080/"
        },
        "id": "Nfd9T8NMvWHF",
        "outputId": "efef4e3a-1e62-465a-a54c-0bcf0054d158"
      },
      "execution_count": 7,
      "outputs": [
        {
          "output_type": "stream",
          "name": "stdout",
          "text": [
            "\n",
            "        ---------------------------------------------------------\n",
            "\n",
            "decrypted text:\n",
            "\n",
            "        CRYPTOGRAPHIC SYSTEMS ARE EXTREMELY DIFFICULT TO BUILD.\n",
            "NEVERTHELESS, FOR SOME REASON MANY NONEXPERTS INSIST ON\n",
            "DESIGNING NEW ENCRYPTION SCHEMES THAT SEEM TO THEM TO BE\n",
            "MORE SECURE THAN ANY OTHER SCHEME ON EARTH. THE UNFORTUNATE\n",
            "TRUTH HOWEVER IS THAT SUCH SCHEMES ARE USUALLY TRIVIAL TO\n",
            "BREAK.\n",
            "    \n",
            "        ---------------------------------------------------------\n"
          ]
        }
      ]
    }
  ]
}