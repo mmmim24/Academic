{
  "cells": [
    {
      "cell_type": "code",
      "execution_count": 2,
      "metadata": {
        "colab": {
          "base_uri": "https://localhost:8080/"
        },
        "id": "sIR50lqpmrWC",
        "outputId": "e0701013-0a3c-40b2-bab1-6a226d906b20"
      },
      "outputs": [
        {
          "name": "stdout",
          "output_type": "stream",
          "text": [
            "freq distribution\n",
            "        d:65\n",
            "        g:50\n",
            "        v:45\n",
            "        f:43\n",
            "        h:42\n",
            "        t:41\n",
            "        s:40\n",
            "        m:32\n",
            "        e:32\n",
            "        b:24\n",
            "        u:22\n",
            "        x:19\n",
            "        c:16\n",
            "        z:16\n",
            "        a:15\n",
            "        y:13\n",
            "        q:12\n",
            "        l:10\n",
            "        j:8\n",
            "        o:6\n",
            "        i:3\n",
            "        k:2\n",
            "        p:2\n",
            "        n:0\n",
            "        r:0\n",
            "        w:0\n",
            "\n",
            "        ---------------------------------------------------------\n",
            "\n",
            "decrypted text:\n",
            "\n",
            "        t*e ***t* ** *t*e**t* e**** e******* t**t t*e ***e* ** ***e****** *e***\n",
            "** t* *e *t**** **** *********. ***e*** *** ***e ** t*e *t*e**t* *e *ee*\n",
            "**e* ***e *et* t****. ** ****t***, *e***e e***e** ***t* t******\n",
            "***e,******, ***e***, *** *t*e** ****e *t***e* ** ******* ******\n",
            "****** **t* ***e**e.t*e*e **e **** *e*e**t* ** *t***** ***te* **\n",
            "t**** t**e*, ** *t *e*** t* ***e *****e***** **t**t**** **t*\n",
            "******e. t*e *****t***e ** *t***** ***te* *** *t**** * ***** *****\n",
            "**** *e***e t********t ***t***.*ee**** *e****e* ** ***t *e ***e\n",
            "**********e* t********t ***t*** *** *e** ** *ee *** *********** ***\n",
            "*******t*e* ***e *e**e*e*e* t****** t**** t**e* *** **t* * *****te*\n",
            "**t**e.\n",
            "    \n",
            "        ---------------------------------------------------------\n"
          ]
        }
      ],
      "source": [
        "import numpy as np\n",
        "src = \"\"\"\n",
        "        gtd bsvgl vf fgedsugt dffml dkcymvsf gtmg gtd chjde ha aevdsxftvc tdycf\n",
        "bf gh id fgehsu aehz tmexftvcf. aevdsxf qms uvod bf gtd fgedsugt jd sddx\n",
        "jtds yvad udgf ghbut. vs mxxvgvhs, cdhcyd dkcedff bsvgl gtehbut\n",
        "yhod,amzvyl, aevdsxf, msx hgtdef ftmed fghevdf ha avsxvsu qhzzhs\n",
        "uehbsx jvgt fhzdhsd.gtded med zmsl idsdavgf ha fgmlvsu bsvgdx vs\n",
        "ghbut gvzdf, mf vg tdycf gh amqd qtmyydsuvsu fvgbmgvhsf jvgt\n",
        "qhbemud. gtd vzchegmsqd ha fgmlvsu bsvgdx tmf fgebqp m qthex mzhsu\n",
        "zmsl cdhcyd gtehbuthbg tvfghel.pddcvsu zdzhevdf ha jtmg jd tmod\n",
        "mqqhzcyvftdx gtehbuthbg tvfghel qms tdyc bf fdd thj vsxvovxbmyf msx\n",
        "qhzzbsvgvdf tmod cdefdodedx gtehbut ghbut gvzdf msx vsgh m ievutgde\n",
        "abgbed.\n",
        "    \"\"\"\n",
        "\n",
        "dest = \"\"\n",
        "\n",
        "fre = {\n",
        "        'a':0,'b':0,'c':0,'d':0,'e':0,\n",
        "        'f':0,'g':0,'h':0,'i':0,'j':0,\n",
        "        'k':0,'l':0,'m':0,'n':0,'o':0,'p':0,\n",
        "        'q':0,'r':0,'s':0,'t':0,'u':0,\n",
        "        'v':0,'w':0,'x':0,'y':0,'z':0\n",
        "    }\n",
        "def freq(src):\n",
        "    print('freq distribution')\n",
        "    for i in src:\n",
        "        for j in i:\n",
        "            if fre.get(j)!=None:\n",
        "                fre[j] += 1\n",
        "    keys = list(fre.keys())\n",
        "    values = list(fre.values())\n",
        "    sorted_value_index = np.array(values).argsort()[-26:][::-1]\n",
        "    sorted_dict = {keys[i]: values[i] for i in sorted_value_index}\n",
        "\n",
        "    for i in sorted_dict:\n",
        "        print('        ',end='')\n",
        "        print(i,end=':')\n",
        "        print(sorted_dict[i])\n",
        "\n",
        "mapping = {\n",
        "            '.':'.',',':',','\\n':'\\n',\n",
        "            'd':'e','g':'t',\n",
        "        }\n",
        "\n",
        "\n",
        "\n",
        "def algo(src,mapping):\n",
        "    print(\"decrypted text:\")\n",
        "    for i in src:\n",
        "        for j in i:\n",
        "            if j !=' ':\n",
        "                if mapping.get(j):\n",
        "                    print(mapping[j],end='')\n",
        "                else:\n",
        "                    print('*',end='')\n",
        "            else:\n",
        "                print(\" \",end='')\n",
        "    print()\n",
        "\n",
        "freq(src)\n",
        "def decipher():\n",
        "    print('\\n        ---------------------------------------------------------\\n')\n",
        "    algo(src,mapping)\n",
        "    print('        ---------------------------------------------------------')\n",
        "\n",
        "decipher()"
      ]
    },
    {
      "cell_type": "markdown",
      "metadata": {
        "id": "KE3PjhwynIws"
      },
      "source": [
        "From the frequency distribution of letters we can see that most frequent letter is `d` so we can replace it with `e` from cheatsheet. Similarly replaced `t` with `d`. Now if we look closely at the first word, it is a 3 letter word and the first and last letter is `t` and `e`. From the cheatsheet we get that most frequent trigraph and three letter word is `the`. so `t` is replaced by `h`.\n"
      ]
    },
    {
      "cell_type": "code",
      "execution_count": 3,
      "metadata": {
        "colab": {
          "base_uri": "https://localhost:8080/"
        },
        "id": "yQ-WRJ4mrFfD",
        "outputId": "e6a7e5a0-becc-4031-cc6b-f7e5a210c084"
      },
      "outputs": [
        {
          "name": "stdout",
          "output_type": "stream",
          "text": [
            "\n",
            "        ---------------------------------------------------------\n",
            "\n",
            "decrypted text:\n",
            "\n",
            "        the ***t* ** *t*e**th e**** e******* th*t the ***e* ** ***e***h** he***\n",
            "** t* *e *t**** **** h****h***. ***e*** *** ***e ** the *t*e**th *e *ee*\n",
            "*he* ***e *et* t***h. ** ****t***, *e***e e***e** ***t* th****h\n",
            "***e,******, ***e***, *** *the** *h**e *t***e* ** ******* ******\n",
            "****** **th ***e**e.the*e **e **** *e*e**t* ** *t***** ***te* **\n",
            "t***h t**e*, ** *t he*** t* ***e *h***e***** **t**t**** **th\n",
            "******e. the *****t***e ** *t***** ***te* h** *t**** * *h*** *****\n",
            "**** *e***e th****h**t h**t***.*ee**** *e****e* ** *h*t *e h**e\n",
            "*********he* th****h**t h**t*** *** he** ** *ee h** *********** ***\n",
            "*******t*e* h**e *e**e*e*e* th****h t***h t**e* *** **t* * ****hte*\n",
            "**t**e.\n",
            "    \n",
            "        ---------------------------------------------------------\n"
          ]
        }
      ],
      "source": [
        "mapping = {\n",
        "            '.':'.',',':',','\\n':'\\n',\n",
        "            'd':'e','g':'t','t':'h'\n",
        "        }\n",
        "\n",
        "\n",
        "decipher()"
      ]
    },
    {
      "cell_type": "markdown",
      "metadata": {
        "id": "NcJTUSSTx1Wr"
      },
      "source": [
        "there are some one letter word words in cipher text so from the cheatsheet we replace it with `m` with `a`\n"
      ]
    },
    {
      "cell_type": "code",
      "execution_count": 4,
      "metadata": {
        "colab": {
          "base_uri": "https://localhost:8080/"
        },
        "id": "GDduk9BEz1DW",
        "outputId": "6f4e0434-5078-4e54-db3f-38179581b769"
      },
      "outputs": [
        {
          "name": "stdout",
          "output_type": "stream",
          "text": [
            "\n",
            "        ---------------------------------------------------------\n",
            "\n",
            "decrypted text:\n",
            "\n",
            "        the ***t* ** *t*e**th e**a* e***a*** that the ***e* ** ***e***h** he***\n",
            "** t* *e *t**** **** ha***h***. ***e*** *a* ***e ** the *t*e**th *e *ee*\n",
            "*he* ***e *et* t***h. ** a***t***, *e***e e***e** ***t* th****h\n",
            "***e,*a****, ***e***, a** *the** *ha*e *t***e* ** ******* ******\n",
            "****** **th ***e**e.the*e a*e *a** *e*e**t* ** *ta**** ***te* **\n",
            "t***h t**e*, a* *t he*** t* *a*e *ha**e***** **t*at**** **th\n",
            "****a*e. the *****ta**e ** *ta**** ***te* ha* *t**** a *h*** a****\n",
            "*a** *e***e th****h**t h**t***.*ee**** *e****e* ** *hat *e ha*e\n",
            "a********he* th****h**t h**t*** *a* he** ** *ee h** ********a** a**\n",
            "*******t*e* ha*e *e**e*e*e* th****h t***h t**e* a** **t* a ****hte*\n",
            "**t**e.\n",
            "    \n",
            "        ---------------------------------------------------------\n"
          ]
        }
      ],
      "source": [
        "mapping = {\n",
        "            '.':'.',',':',','\\n':'\\n',\n",
        "            'd':'e','g':'t','t':'h','m':'a'\n",
        "        }\n",
        "\n",
        "\n",
        "decipher()"
      ]
    },
    {
      "cell_type": "markdown",
      "metadata": {
        "id": "6HH1MkEZt0Ma"
      },
      "source": [
        "most frequent two letter which starts with **t** is *to* . So we replace `h` with `o`. Similarly we can replace `a` with `f` and `i` with `b` as there is a two letter word ends with e assuming that is *be* and another one starts with o which may be *of*\n",
        "there are more two letter words which starts with same letter but ends with different ones. In the cheatsheet we get that there are more frequent two letter words starts with `i`. In the cipher text there are uncovered two letter words like `vf`,`vs` and `vg`. And as we replaced `g` with `t` we can assume `v` can be replaced with `i`"
      ]
    },
    {
      "cell_type": "code",
      "execution_count": 5,
      "metadata": {
        "colab": {
          "base_uri": "https://localhost:8080/"
        },
        "id": "JkYvr8O7uMA0",
        "outputId": "5e9fee8f-e3e1-40fe-905d-0f6eb6a45786"
      },
      "outputs": [
        {
          "name": "stdout",
          "output_type": "stream",
          "text": [
            "\n",
            "        ---------------------------------------------------------\n",
            "\n",
            "decrypted text:\n",
            "\n",
            "        the **it* i* *t*e**th e**a* e***ai** that the *o*e* of f*ie***hi* he***\n",
            "** to be *t*o** f*o* ha***hi**. f*ie*** *a* *i*e ** the *t*e**th *e *ee*\n",
            "*he* *ife *et* to**h. i* a**itio*, *eo**e e***e** **it* th*o**h\n",
            "*o*e,fa*i**, f*ie***, a** othe** *ha*e *to*ie* of fi**i** *o**o*\n",
            "**o*** *ith *o*eo*e.the*e a*e *a** be*efit* of *ta*i** **ite* i*\n",
            "to**h ti*e*, a* it he*** to fa*e *ha**e**i** *it*atio** *ith\n",
            "*o**a*e. the i**o*ta**e of *ta*i** **ite* ha* *t**** a *ho** a*o**\n",
            "*a** *eo**e th*o**ho*t hi*to**.*ee*i** *e*o*ie* of *hat *e ha*e\n",
            "a**o***i*he* th*o**ho*t hi*to** *a* he** ** *ee ho* i**i*i**a** a**\n",
            "*o****itie* ha*e *e**e*e*e* th*o**h to**h ti*e* a** i*to a b*i*hte*\n",
            "f*t**e.\n",
            "    \n",
            "        ---------------------------------------------------------\n"
          ]
        }
      ],
      "source": [
        "mapping = {\n",
        "            '.':'.',',':',','\\n':'\\n',\n",
        "            'd':'e','g':'t','t':'h','m':'a',\n",
        "            'h':'o','a':'f','i':'b','v':'i'\n",
        "        }\n",
        "\n",
        "\n",
        "decipher()"
      ]
    },
    {
      "cell_type": "markdown",
      "metadata": {
        "id": "kZ1MT3rjwzP5"
      },
      "source": [
        "We got a decrypted word `ha*e` which ciphertext was `tmod`. As we have mapped `t`,`m` and `d` we can assume `o` can b mapped with `v` so that the decrypted word could be `have`"
      ]
    },
    {
      "cell_type": "code",
      "execution_count": 6,
      "metadata": {
        "colab": {
          "base_uri": "https://localhost:8080/"
        },
        "id": "4FIa_FvIxSBQ",
        "outputId": "e088c13a-09fd-4d3c-c6a4-1ebce97a75a4"
      },
      "outputs": [
        {
          "name": "stdout",
          "output_type": "stream",
          "text": [
            "\n",
            "        ---------------------------------------------------------\n",
            "\n",
            "decrypted text:\n",
            "\n",
            "        the **it* i* *t*e**th e**a* e***ai** that the *o*e* of f*ie***hi* he***\n",
            "** to be *t*o** f*o* ha***hi**. f*ie*** *a* *ive ** the *t*e**th *e *ee*\n",
            "*he* *ife *et* to**h. i* a**itio*, *eo**e e***e** **it* th*o**h\n",
            "*ove,fa*i**, f*ie***, a** othe** *ha*e *to*ie* of fi**i** *o**o*\n",
            "**o*** *ith *o*eo*e.the*e a*e *a** be*efit* of *ta*i** **ite* i*\n",
            "to**h ti*e*, a* it he*** to fa*e *ha**e**i** *it*atio** *ith\n",
            "*o**a*e. the i**o*ta**e of *ta*i** **ite* ha* *t**** a *ho** a*o**\n",
            "*a** *eo**e th*o**ho*t hi*to**.*ee*i** *e*o*ie* of *hat *e have\n",
            "a**o***i*he* th*o**ho*t hi*to** *a* he** ** *ee ho* i**ivi**a** a**\n",
            "*o****itie* have *e**eve*e* th*o**h to**h ti*e* a** i*to a b*i*hte*\n",
            "f*t**e.\n",
            "    \n",
            "        ---------------------------------------------------------\n"
          ]
        }
      ],
      "source": [
        "mapping = {\n",
        "            '.':'.',',':',','\\n':'\\n',\n",
        "            'd':'e','g':'t','t':'h','m':'a',\n",
        "            'h':'o','a':'f','i':'b','v':'i',\n",
        "            'o':'v'\n",
        "        }\n",
        "\n",
        "\n",
        "decipher()"
      ]
    },
    {
      "cell_type": "markdown",
      "metadata": {
        "id": "L3fLDPeTub8n"
      },
      "source": [
        "we have got three consecutive words in decrypted text `*hat *e have` . As we have already found the mapping of `t` we can tell this would be `w`. Also in the cipher text it is the same letter `j` so as a 2 word frequent letter ehich ends with `e` in the cheatsheet, we can assume clearly say `j` will be mapped with `w`"
      ]
    },
    {
      "cell_type": "code",
      "execution_count": 7,
      "metadata": {
        "colab": {
          "base_uri": "https://localhost:8080/"
        },
        "id": "mG6-JP_NyLCr",
        "outputId": "8547d78f-541c-4d15-c1c6-88efcd4e3a6e"
      },
      "outputs": [
        {
          "name": "stdout",
          "output_type": "stream",
          "text": [
            "\n",
            "        ---------------------------------------------------------\n",
            "\n",
            "decrypted text:\n",
            "\n",
            "        the **it* i* *t*e**th e**a* e***ai** that the *owe* of f*ie***hi* he***\n",
            "** to be *t*o** f*o* ha***hi**. f*ie*** *a* *ive ** the *t*e**th we *ee*\n",
            "whe* *ife *et* to**h. i* a**itio*, *eo**e e***e** **it* th*o**h\n",
            "*ove,fa*i**, f*ie***, a** othe** *ha*e *to*ie* of fi**i** *o**o*\n",
            "**o*** with *o*eo*e.the*e a*e *a** be*efit* of *ta*i** **ite* i*\n",
            "to**h ti*e*, a* it he*** to fa*e *ha**e**i** *it*atio** with\n",
            "*o**a*e. the i**o*ta**e of *ta*i** **ite* ha* *t**** a *ho** a*o**\n",
            "*a** *eo**e th*o**ho*t hi*to**.*ee*i** *e*o*ie* of what we have\n",
            "a**o***i*he* th*o**ho*t hi*to** *a* he** ** *ee how i**ivi**a** a**\n",
            "*o****itie* have *e**eve*e* th*o**h to**h ti*e* a** i*to a b*i*hte*\n",
            "f*t**e.\n",
            "    \n",
            "        ---------------------------------------------------------\n"
          ]
        }
      ],
      "source": [
        "mapping = {\n",
        "            '.':'.',',':',','\\n':'\\n',\n",
        "            'd':'e','g':'t','t':'h','m':'a',\n",
        "            'h':'o','a':'f','i':'b','v':'i',\n",
        "            'o':'v','j':'w'\n",
        "        }\n",
        "\n",
        "\n",
        "decipher()"
      ]
    },
    {
      "cell_type": "markdown",
      "metadata": {
        "id": "MbmNVgPj1Cf7"
      },
      "source": [
        "from the 3 letter words which `ha*` can either be `had` or `has` . and the later word `*t****` is starting with the same letter. so the initial letter would be `s` so it would replace `f`"
      ]
    },
    {
      "cell_type": "code",
      "execution_count": 8,
      "metadata": {
        "colab": {
          "base_uri": "https://localhost:8080/"
        },
        "id": "brFF1MeR6dBy",
        "outputId": "b3d126d0-a5c7-41cb-8c38-215375e94af4"
      },
      "outputs": [
        {
          "name": "stdout",
          "output_type": "stream",
          "text": [
            "\n",
            "        ---------------------------------------------------------\n",
            "\n",
            "decrypted text:\n",
            "\n",
            "        the **it* is st*e**th essa* e***ai*s that the *owe* of f*ie**shi* he**s\n",
            "*s to be st*o** f*o* ha**shi*s. f*ie**s *a* *ive *s the st*e**th we *ee*\n",
            "whe* *ife *ets to**h. i* a**itio*, *eo**e e***ess **it* th*o**h\n",
            "*ove,fa*i**, f*ie**s, a** othe*s sha*e sto*ies of fi**i** *o**o*\n",
            "**o*** with so*eo*e.the*e a*e *a** be*efits of sta*i** **ite* i*\n",
            "to**h ti*es, as it he**s to fa*e *ha**e**i** sit*atio*s with\n",
            "*o**a*e. the i**o*ta**e of sta*i** **ite* has st**** a *ho** a*o**\n",
            "*a** *eo**e th*o**ho*t histo**.*ee*i** *e*o*ies of what we have\n",
            "a**o***ishe* th*o**ho*t histo** *a* he** *s see how i**ivi**a*s a**\n",
            "*o****ities have *e*seve*e* th*o**h to**h ti*es a** i*to a b*i*hte*\n",
            "f*t**e.\n",
            "    \n",
            "        ---------------------------------------------------------\n"
          ]
        }
      ],
      "source": [
        "mapping = {\n",
        "            '.':'.',',':',','\\n':'\\n',\n",
        "            'd':'e','g':'t','t':'h','m':'a',\n",
        "            'h':'o','a':'f','i':'b','v':'i',\n",
        "            'o':'v','j':'w','f':'s'\n",
        "        }\n",
        "\n",
        "\n",
        "decipher()"
      ]
    },
    {
      "cell_type": "markdown",
      "metadata": {
        "id": "N_RyHo9a6-ZU"
      },
      "source": [
        "guessed a `i*to` will be `into` so `s` will be replaced by `n` and for that `so*eone` will be `someone` so `z` will be replaced with `m`. Similarly `st*en*th` will be `strength` so `e` will be replaced by `r` and `u` will be replaced by `g`\n"
      ]
    },
    {
      "cell_type": "code",
      "execution_count": 9,
      "metadata": {
        "colab": {
          "base_uri": "https://localhost:8080/"
        },
        "id": "1Jg9TCd5lh3h",
        "outputId": "f9cd68b2-dc0d-4126-f5d8-3e1a3e8b768d"
      },
      "outputs": [
        {
          "name": "stdout",
          "output_type": "stream",
          "text": [
            "\n",
            "        ---------------------------------------------------------\n",
            "\n",
            "decrypted text:\n",
            "\n",
            "        the *nit* is strength essa* e***ains that the *ower of frien*shi* he**s\n",
            "*s to be strong from har*shi*s. frien*s *an give *s the strength we nee*\n",
            "when *ife gets to*gh. in a**ition, *eo**e e**ress *nit* thro*gh\n",
            "*ove,fami**, frien*s, an* others share stories of fin*ing *ommon\n",
            "gro*n* with someone.there are man* benefits of sta*ing *nite* in\n",
            "to*gh times, as it he**s to fa*e *ha**enging sit*ations with\n",
            "*o*rage. the im*ortan*e of sta*ing *nite* has str*** a *hor* among\n",
            "man* *eo**e thro*gho*t histor*.*ee*ing memories of what we have\n",
            "a**om**ishe* thro*gho*t histor* *an he** *s see how in*ivi**a*s an*\n",
            "*omm*nities have *ersevere* thro*gh to*gh times an* into a brighter\n",
            "f*t*re.\n",
            "    \n",
            "        ---------------------------------------------------------\n"
          ]
        }
      ],
      "source": [
        "mapping = {\n",
        "            '.':'.',',':',','\\n':'\\n',\n",
        "            'd':'e','g':'t','t':'h','m':'a',\n",
        "            'h':'o','a':'f','i':'b','v':'i',\n",
        "            'o':'v','j':'w','f':'s','s':'n',\n",
        "            'z':'m','e':'r','u':'g'\n",
        "        }\n",
        "\n",
        "\n",
        "decipher()"
      ]
    },
    {
      "cell_type": "markdown",
      "metadata": {
        "id": "7YC2QlmBl9oR"
      },
      "source": [
        "rest of the letters are quite intuitive as we covered most of them. So we just check the words and replace them\n"
      ]
    },
    {
      "cell_type": "code",
      "execution_count": 12,
      "metadata": {
        "colab": {
          "base_uri": "https://localhost:8080/"
        },
        "id": "o0n7eQj7mMtX",
        "outputId": "0ddf9446-07b4-439e-f42c-cb61a3477bfc"
      },
      "outputs": [
        {
          "name": "stdout",
          "output_type": "stream",
          "text": [
            "\n",
            "        ---------------------------------------------------------\n",
            "\n",
            "decrypted text:\n",
            "\n",
            "        the unity is strength essay explains that the power of friendship helps\n",
            "us to be strong from hardships. friends can give us the strength we need\n",
            "when life gets tough. in addition, people express unity through\n",
            "love,family, friends, and others share stories of finding common\n",
            "ground with someone.there are many benefits of staying united in\n",
            "tough times, as it helps to face challenging situations with\n",
            "courage. the importance of staying united has struck a chord among\n",
            "many people throughout history.keeping memories of what we have\n",
            "accomplished throughout history can help us see how individuals and\n",
            "communities have persevered through tough times and into a brighter\n",
            "future.\n",
            "    \n",
            "        ---------------------------------------------------------\n"
          ]
        }
      ],
      "source": [
        "mapping = {\n",
        "            '.':'.',',':',','\\n':'\\n',\n",
        "            'd':'e','g':'t','t':'h','m':'a',\n",
        "            'h':'o','a':'f','i':'b','v':'i',\n",
        "            'o':'v','j':'w','f':'s','s':'n',\n",
        "            'z':'m','e':'r','u':'g','l':'y',\n",
        "            'b':'u','c':'p','x':'d','y':'l',\n",
        "            'k':'x','q':'c','p':'k'\n",
        "        }\n",
        "\n",
        "\n",
        "decipher()"
      ]
    },
    {
      "cell_type": "code",
      "execution_count": null,
      "metadata": {
        "id": "KXBE2VrXmOVz"
      },
      "outputs": [],
      "source": []
    }
  ],
  "metadata": {
    "colab": {
      "provenance": []
    },
    "kernelspec": {
      "display_name": "Python 3",
      "name": "python3"
    },
    "language_info": {
      "name": "python"
    }
  },
  "nbformat": 4,
  "nbformat_minor": 0
}
