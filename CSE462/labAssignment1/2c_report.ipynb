{
  "nbformat": 4,
  "nbformat_minor": 0,
  "metadata": {
    "colab": {
      "provenance": []
    },
    "kernelspec": {
      "name": "python3",
      "display_name": "Python 3"
    },
    "language_info": {
      "name": "python"
    }
  },
  "cells": [
    {
      "cell_type": "code",
      "execution_count": 2,
      "metadata": {
        "colab": {
          "base_uri": "https://localhost:8080/"
        },
        "id": "-2C-o726T5aI",
        "outputId": "47c6db8b-3039-48df-b073-56a3d475e0fb"
      },
      "outputs": [
        {
          "output_type": "stream",
          "name": "stdout",
          "text": [
            "        ---------------------------------------------------------\n",
            "freq distribution\n",
            "        Z:19\n",
            "        C:17\n",
            "        V:12\n",
            "        U:12\n",
            "        J:11\n",
            "        Y:9\n",
            "        B:9\n",
            "        M:9\n",
            "        A:5\n",
            "        F:5\n",
            "        G:5\n",
            "        K:4\n",
            "        H:4\n",
            "        I:4\n",
            "        D:3\n",
            "        O:2\n",
            "        P:2\n",
            "        T:1\n",
            "        N:1\n",
            "        W:1\n",
            "        L:0\n",
            "        S:0\n",
            "        Q:0\n",
            "        E:0\n",
            "        X:0\n",
            "        R:0\n",
            "\n",
            "        ---------------------------------------------------------\n",
            "\n",
            "decrypted text:\n",
            "\n",
            "        **** ***** * ****** * **** ** ********* *****.\n",
            "** ****** ** **, * ***** ** *** **** **** ******* ** ***\n",
            "***** *** *** * *****, * ***** *** *****.\n",
            "*** *** ***, ** *** ****** ** **.\n",
            "    \n",
            "        ---------------------------------------------------------\n"
          ]
        }
      ],
      "source": [
        "import numpy as np\n",
        "src = \"\"\"\n",
        "        AUHC MVKFC V BYZUGC V IZMC CJ GUMBZYAZD UKUVM.\n",
        "VC HZZGZB CJ GZ, V HCJJB PD CFZ VYJM KUCZ AZUBVMK CJ CFZ\n",
        "BYVWZ UMB OJY U IFVAZ, V TJNAB MJC ZMCZY.\n",
        "OJY CFZ IUD, VC IUH PUYYZB CJ GZ.\n",
        "    \"\"\"\n",
        "\n",
        "dest = \"\"\n",
        "\n",
        "fre = {\n",
        "        'A':0,'B':0,'C':0,'D':0,'E':0,\n",
        "        'F':0,'G':0,'H':0,'I':0,'J':0,\n",
        "        'K':0,'L':0,'M':0,'N':0,'O':0,'P':0,\n",
        "        'Q':0,'R':0,'S':0,'T':0,'U':0,\n",
        "        'V':0,'W':0,'X':0,'Y':0,'Z':0\n",
        "    }\n",
        "def freq(src):\n",
        "    print('freq distribution')\n",
        "    for i in src:\n",
        "        for j in i:\n",
        "            if fre.get(j)!=None:\n",
        "                fre[j] += 1\n",
        "    keys = list(fre.keys())\n",
        "    values = list(fre.values())\n",
        "    sorted_value_index = np.array(values).argsort()[-26:][::-1]\n",
        "    sorted_dict = {keys[i]: values[i] for i in sorted_value_index}\n",
        "\n",
        "    for i in sorted_dict:\n",
        "        print('        ',end='')\n",
        "        print(i,end=':')\n",
        "        print(sorted_dict[i])\n",
        "\n",
        "\n",
        "\n",
        "mapping = {\n",
        "            '.':'.',',':',','\\n':'\\n','-':'-',\n",
        "\n",
        "        }\n",
        "\n",
        "\n",
        "\n",
        "\n",
        "def algo(src,mapping):\n",
        "    print(\"decrypted text:\")\n",
        "    for i in src:\n",
        "        for j in i:\n",
        "            if j !=' ':\n",
        "                if mapping.get(j):\n",
        "                    print(mapping[j],end='')\n",
        "                else:\n",
        "                    print('*',end='')\n",
        "            else:\n",
        "                print(\" \",end='')\n",
        "    print()\n",
        "\n",
        "print('        ---------------------------------------------------------')\n",
        "freq(src)\n",
        "def decipher():\n",
        "    print('\\n        ---------------------------------------------------------\\n')\n",
        "    algo(src,mapping)\n",
        "    print('        ---------------------------------------------------------')\n",
        "\n",
        "decipher()"
      ]
    },
    {
      "cell_type": "markdown",
      "source": [
        "from the ciphertxt we get the most number of trigraph is `CFZ` which is mapped by `THE` and one letter word `V` and `U` mapped by `I` and `A`.\n",
        "for the word `T*` there is only one appropiate digraph/ two letter word which is `TO` . So `J` is mapped by `O`"
      ],
      "metadata": {
        "id": "YHrdkCufctHu"
      }
    },
    {
      "cell_type": "code",
      "source": [
        "mapping = {\n",
        "            '.':'.',',':',','\\n':'\\n','-':'-',\n",
        "            'C':'T','F':'H','Z':'E','V':'I',\n",
        "            'U':'A','J':'O'\n",
        "\n",
        "        }\n",
        "decipher()"
      ],
      "metadata": {
        "colab": {
          "base_uri": "https://localhost:8080/"
        },
        "id": "PYxGdr1NY65I",
        "outputId": "8f7a1725-0889-47cd-a03b-681bc99ec2b3"
      },
      "execution_count": 5,
      "outputs": [
        {
          "output_type": "stream",
          "name": "stdout",
          "text": [
            "\n",
            "        ---------------------------------------------------------\n",
            "\n",
            "decrypted text:\n",
            "\n",
            "        *A*T *I*HT I **EA*T I *E*T TO *A**E**E* A*AI*.\n",
            "IT *EE*E* TO *E, I *TOO* ** THE I*O* *ATE *EA*I** TO THE\n",
            "**I*E A** *O* A *HI*E, I *O*** *OT E*TE*.\n",
            "*O* THE *A*, IT *A* *A**E* TO *E.\n",
            "    \n",
            "        ---------------------------------------------------------\n"
          ]
        }
      ]
    },
    {
      "cell_type": "markdown",
      "source": [
        "from the word `*ATE` and `*I*HT` we can get that `K` can be mapped with `G`. and by that we get the word `AGAI*` which will be `AGAIN` so we map `M=N`. And after that `ENTE*` will be `ENTER` so next mapping will be `Y=R`"
      ],
      "metadata": {
        "id": "A7WveymHeIW7"
      }
    },
    {
      "cell_type": "code",
      "source": [
        "mapping = {\n",
        "            '.':'.',',':',','\\n':'\\n','-':'-',\n",
        "            'C':'T','F':'H','Z':'E','V':'I',\n",
        "            'U':'A','J':'O','K':'G','M':'N',\n",
        "            'Y':'R'\n",
        "\n",
        "        }\n",
        "decipher()"
      ],
      "metadata": {
        "colab": {
          "base_uri": "https://localhost:8080/"
        },
        "id": "uDHjpZjhfApn",
        "outputId": "1c5f565c-045f-4fa9-f446-bf1b77e371ff"
      },
      "execution_count": 6,
      "outputs": [
        {
          "output_type": "stream",
          "name": "stdout",
          "text": [
            "\n",
            "        ---------------------------------------------------------\n",
            "\n",
            "decrypted text:\n",
            "\n",
            "        *A*T NIGHT I *REA*T I *ENT TO *AN*ER*E* AGAIN.\n",
            "IT *EE*E* TO *E, I *TOO* ** THE IRON GATE *EA*ING TO THE\n",
            "*RI*E AN* *OR A *HI*E, I *O*** NOT ENTER.\n",
            "*OR THE *A*, IT *A* *ARRE* TO *E.\n",
            "    \n",
            "        ---------------------------------------------------------\n"
          ]
        }
      ]
    },
    {
      "cell_type": "markdown",
      "source": [
        "`*OR` will be `FOR` and `TO *E` will be `TO ME`.\n",
        "from the grammatical context `*REAMT , *ENT` will be `DREAMT, WENT`.\n",
        "so mapping `O=F , G=M, B=D, I=W`."
      ],
      "metadata": {
        "id": "bB-hp2JNfiyJ"
      }
    },
    {
      "cell_type": "code",
      "source": [
        "mapping = {\n",
        "            '.':'.',',':',','\\n':'\\n','-':'-',\n",
        "            'C':'T','F':'H','Z':'E','V':'I',\n",
        "            'U':'A','J':'O','K':'G','M':'N',\n",
        "            'Y':'R','O':'F','G':'M','B':'D',\n",
        "            'I':'W'\n",
        "\n",
        "        }\n",
        "decipher()"
      ],
      "metadata": {
        "colab": {
          "base_uri": "https://localhost:8080/"
        },
        "id": "dApYcfa-hs-x",
        "outputId": "6f983662-a15f-4cfe-9a7f-d576a4a941c6"
      },
      "execution_count": 7,
      "outputs": [
        {
          "output_type": "stream",
          "name": "stdout",
          "text": [
            "\n",
            "        ---------------------------------------------------------\n",
            "\n",
            "decrypted text:\n",
            "\n",
            "        *A*T NIGHT I DREAMT I WENT TO MANDER*E* AGAIN.\n",
            "IT *EEMED TO ME, I *TOOD ** THE IRON GATE *EADING TO THE\n",
            "DRI*E AND FOR A WHI*E, I *O**D NOT ENTER.\n",
            "FOR THE WA*, IT WA* *ARRED TO ME.\n",
            "    \n",
            "        ---------------------------------------------------------\n"
          ]
        }
      ]
    },
    {
      "cell_type": "markdown",
      "source": [
        "`*EEMED , *TOOD` will be `SEEMED , STOOD` and `WHI*E` will be `WHILE`.\n",
        "`*O*LD` can be `COULD or WOULD` but we have mapped `W` before so the next mappings are `H=S,A=L,T=C,N=U`"
      ],
      "metadata": {
        "id": "2vMU6XzCiplg"
      }
    },
    {
      "cell_type": "code",
      "source": [
        "mapping = {\n",
        "            '.':'.',',':',','\\n':'\\n','-':'-',\n",
        "            'C':'T','F':'H','Z':'E','V':'I',\n",
        "            'U':'A','J':'O','K':'G','M':'N',\n",
        "            'Y':'R','O':'F','G':'M','B':'D',\n",
        "            'I':'W','H':'S','A':'L','T':'C',\n",
        "            'N':'U'\n",
        "        }\n",
        "decipher()"
      ],
      "metadata": {
        "colab": {
          "base_uri": "https://localhost:8080/"
        },
        "id": "5sl5u_Y3j2-_",
        "outputId": "d80bbc3d-0bd1-4207-f1cf-56490db3dd4e"
      },
      "execution_count": 8,
      "outputs": [
        {
          "output_type": "stream",
          "name": "stdout",
          "text": [
            "\n",
            "        ---------------------------------------------------------\n",
            "\n",
            "decrypted text:\n",
            "\n",
            "        LAST NIGHT I DREAMT I WENT TO MANDERLE* AGAIN.\n",
            "IT SEEMED TO ME, I STOOD ** THE IRON GATE LEADING TO THE\n",
            "DRI*E AND FOR A WHILE, I COULD NOT ENTER.\n",
            "FOR THE WA*, IT WAS *ARRED TO ME.\n",
            "    \n",
            "        ---------------------------------------------------------\n"
          ]
        }
      ]
    },
    {
      "cell_type": "markdown",
      "source": [
        "and again for the gramatical concern `STOOD ** THE` will be `STOOD BY THE`. and `DRI*E` will be `DRIVE` so mapping `P=B,D=Y,W=V`"
      ],
      "metadata": {
        "id": "fgrpm6krkH_1"
      }
    },
    {
      "cell_type": "code",
      "source": [
        "mapping = {\n",
        "            '.':'.',',':',','\\n':'\\n','-':'-',\n",
        "            'C':'T','F':'H','Z':'E','V':'I',\n",
        "            'U':'A','J':'O','K':'G','M':'N',\n",
        "            'Y':'R','O':'F','G':'M','B':'D',\n",
        "            'I':'W','H':'S','A':'L','T':'C',\n",
        "            'N':'U','P':'B','D':'Y','W':'V'\n",
        "        }\n",
        "decipher()"
      ],
      "metadata": {
        "colab": {
          "base_uri": "https://localhost:8080/"
        },
        "id": "x8WVbzPjkHuu",
        "outputId": "cff1fac6-3075-4a25-9634-4ea113bae8e4"
      },
      "execution_count": 9,
      "outputs": [
        {
          "output_type": "stream",
          "name": "stdout",
          "text": [
            "\n",
            "        ---------------------------------------------------------\n",
            "\n",
            "decrypted text:\n",
            "\n",
            "        LAST NIGHT I DREAMT I WENT TO MANDERLEY AGAIN.\n",
            "IT SEEMED TO ME, I STOOD BY THE IRON GATE LEADING TO THE\n",
            "DRIVE AND FOR A WHILE, I COULD NOT ENTER.\n",
            "FOR THE WAY, IT WAS BARRED TO ME.\n",
            "    \n",
            "        ---------------------------------------------------------\n"
          ]
        }
      ]
    }
  ]
}