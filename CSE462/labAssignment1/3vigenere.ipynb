{
 "cells": [
  {
   "cell_type": "code",
   "execution_count": 14,
   "metadata": {},
   "outputs": [],
   "source": [
    "plaintext = \"CSE FINAL YEAR THEORY COURSE INTRODUCTION TO COMPUTER SECURITY AND FORENSICS\"\n",
    "key = \"SUSTCSE\"\n",
    "keygen = \"\""
   ]
  },
  {
   "cell_type": "markdown",
   "metadata": {},
   "source": [
    "Here *plaintext* is the message we have to encrypt . The idea of vigenere cipher is to encrypt th message using the key. We take sum of `ASCII` value of plaintext and key and modulo it by `26`. Then we add it to the `ASCII` value of `A` and from the value we get the encrypted character.\n",
    "When the **key** is smaller than the **plaintext**, we repeat the characters of the **key** upto the length of **plaintext**"
   ]
  },
  {
   "cell_type": "code",
   "execution_count": 15,
   "metadata": {},
   "outputs": [
    {
     "name": "stdout",
     "output_type": "stream",
     "text": [
      "SUS TCSES USTC SESUST CSESUS TCSESUSTCSES US TCSESUST CSESUSTC SES USTCSESUS\n",
      "CSE FINAL YEAR THEORY COURSE INTRODUCTION TO COMPUTER SECURITY AND FORENSICS\n"
     ]
    }
   ],
   "source": [
    "j = 0\n",
    "keygen=\"\"\n",
    "for i in range(len(plaintext)):\n",
    "    if(plaintext[i]==' '):\n",
    "        keygen += plaintext[i]\n",
    "    else:\n",
    "        keygen += key[j]\n",
    "        j+=1\n",
    "    if(j==len(key)):\n",
    "        j=0\n",
    "\n",
    "print(keygen)\n",
    "print(plaintext)"
   ]
  },
  {
   "cell_type": "markdown",
   "metadata": {},
   "source": [
    "then we implement the *encrypt* funtion and *decrypt* function . For encryption we take the sum of `ASCII` values of *plaintext* and *key* but for decryption we subtract the `ASCII` value of *key* from encrypted text."
   ]
  },
  {
   "cell_type": "code",
   "execution_count": 16,
   "metadata": {},
   "outputs": [],
   "source": [
    "def encrypt(plaintext,key):\n",
    "    cipher = \"\"\n",
    "    for i in range(len(plaintext)):\n",
    "        if plaintext[i]!=' ':\n",
    "            e = ord('A')+(ord(plaintext[i])+ord(key[i]))%26\n",
    "            cipher+= chr(e)\n",
    "        else:\n",
    "            cipher+=plaintext[i]\n",
    "    return cipher\n",
    "\n",
    "def decrypt(cipher,key):\n",
    "    decipher=\"\"\n",
    "    for i in range(len(cipher)):\n",
    "        if cipher[i]!=' ':\n",
    "            e = ord('A')+(ord(cipher[i])-ord(key[i]))%26\n",
    "            decipher+= chr(e)\n",
    "        else:\n",
    "            decipher+=cipher[i]\n",
    "    return decipher"
   ]
  },
  {
   "cell_type": "markdown",
   "metadata": {},
   "source": [
    "lastly we takee two strings to get the return value from the functions"
   ]
  },
  {
   "cell_type": "code",
   "execution_count": 17,
   "metadata": {},
   "outputs": [
    {
     "name": "stdout",
     "output_type": "stream",
     "text": [
      "UMW YKFED SWTT LLWIJR EGYJMW BPLVGXMVVASF NG VQETMNWK UWGMLAMA SRV ZGKGFWAWK\n",
      "CSE FINAL YEAR THEORY COURSE INTRODUCTION TO COMPUTER SECURITY AND FORENSICS\n"
     ]
    }
   ],
   "source": [
    "cipher = encrypt(plaintext,keygen)\n",
    "print(cipher)\n",
    "decipher = decrypt(cipher,keygen)\n",
    "print(decipher)"
   ]
  }
 ],
 "metadata": {
  "kernelspec": {
   "display_name": "Python 3",
   "language": "python",
   "name": "python3"
  },
  "language_info": {
   "codemirror_mode": {
    "name": "ipython",
    "version": 3
   },
   "file_extension": ".py",
   "mimetype": "text/x-python",
   "name": "python",
   "nbconvert_exporter": "python",
   "pygments_lexer": "ipython3",
   "version": "3.12.0"
  }
 },
 "nbformat": 4,
 "nbformat_minor": 2
}
