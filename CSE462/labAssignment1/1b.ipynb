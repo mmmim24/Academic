{
 "cells": [
  {
   "cell_type": "markdown",
   "metadata": {},
   "source": [
    "caeser cipher uses a key between 1 to 25 which is used to shift each if the letters. To identify the plain text , it is necessary to iterate 25 times for the key to shift the ciphertxt. Thus I have found that the key is 5"
   ]
  },
  {
   "cell_type": "code",
   "execution_count": 1,
   "metadata": {},
   "outputs": [
    {
     "name": "stdout",
     "output_type": "stream",
     "text": [
      "CSE CARNIVAL AT IICT BUILDING SUST IS GOING TO BE GREAT AGAIN.\n"
     ]
    }
   ],
   "source": [
    "src = \"XNZ XVMIDQVG VO DDXO WPDGYDIB NPNO DN BJDIB OJ WZ BMZVO VBVDI.\"\n",
    "\n",
    "key =5\n",
    "def caesar(key,ciphertext):\n",
    "    for i in range(len(ciphertext)):\n",
    "        if(ord(src[i])>=65 and ord(src[i])<=90):\n",
    "            print(chr(65 + (ord(src[i]) - 65 + key) % 26),end='')\n",
    "        else:\n",
    "            print(src[i],end='')\n",
    "    print()\n",
    "\n",
    "\n",
    "# for i in range(len(src)):\n",
    "#     caesar(i,src)\n",
    "    \n",
    "caesar(key,src)"
   ]
  },
  {
   "cell_type": "markdown",
   "metadata": {},
   "source": [
    "in the above code there is ciphertext string in `src` variable . `caesar` function takes two parameters. One is `key` for shifting each character and another one is `ciphertext`.\n",
    "iterating through the ciphertext we shift each character in a cyclic way by modding by `26` "
   ]
  }
 ],
 "metadata": {
  "kernelspec": {
   "display_name": "Python 3",
   "language": "python",
   "name": "python3"
  },
  "language_info": {
   "codemirror_mode": {
    "name": "ipython",
    "version": 3
   },
   "file_extension": ".py",
   "mimetype": "text/x-python",
   "name": "python",
   "nbconvert_exporter": "python",
   "pygments_lexer": "ipython3",
   "version": "3.12.0"
  }
 },
 "nbformat": 4,
 "nbformat_minor": 2
}
